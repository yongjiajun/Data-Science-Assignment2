{
 "cells": [
  {
   "cell_type": "code",
   "execution_count": 171,
   "metadata": {},
   "outputs": [],
   "source": [
    "# import pandas into jupyter environment\n",
    "import pandas as pd\n",
    "\n",
    "# import numpy\n",
    "import numpy as np\n",
    "\n",
    "# load csv data into pandas with respective arguments\n",
    "input_filename = \"data/adult.csv\"\n",
    "data = pd.read_csv(input_filename, sep=',', decimal='.', header=None, names=['age', 'workclass', 'fnlwgt', 'education', 'education-num', 'marital-status', 'occupation', 'relationship', 'race', 'sex', 'capital-gain', 'capital-loss', 'hours-per-week', 'native-country', 'income'])"
   ]
  },
  {
   "cell_type": "code",
   "execution_count": 172,
   "metadata": {},
   "outputs": [
    {
     "data": {
      "text/plain": [
       "<=50K    24720\n",
       ">50K      7841\n",
       "Name: income, dtype: int64"
      ]
     },
     "execution_count": 172,
     "metadata": {},
     "output_type": "execute_result"
    }
   ],
   "source": [
    "# HANDLE MISSING/IMPOSSIBLE VALUES #\n",
    "\n",
    "# check if null/NaN values exist\n",
    "data.isnull().values.any()\n",
    "\n",
    "# CHECK NUMERICAL VALUES #\n",
    "# check range of values for 'age'\n",
    "data[data['age']==data['age'].min()].style\n",
    "data[data['age']==data['age'].max()].style\n",
    "\n",
    "# check range of values for 'fnlwgt'\n",
    "data[data['fnlwgt']==data['fnlwgt'].min()].style\n",
    "data[data['fnlwgt']==data['fnlwgt'].max()].style\n",
    "\n",
    "# check range of values for 'education-num'\n",
    "data[data['education-num']==data['education-num'].min()].style\n",
    "data[data['education-num']==data['education-num'].max()].style\n",
    "\n",
    "# check range of values for 'capital-gain'\n",
    "data[data['capital-gain']==data['capital-gain'].min()].style\n",
    "data[data['capital-gain']==data['capital-gain'].max()].style\n",
    "\n",
    "# check range of values for 'capital-loss'\n",
    "data[data['capital-loss']==data['capital-loss'].min()].style\n",
    "data[data['capital-loss']==data['capital-loss'].max()].style\n",
    "\n",
    "# check range of values for 'hours-per-week'\n",
    "data[data['hours-per-week']==data['hours-per-week'].min()].style\n",
    "data[data['hours-per-week']==data['hours-per-week'].max()].style\n",
    "\n",
    "# CHECK NOMINAL/ORDINAL VALUES #\n",
    "\n",
    "# check values for 'workclass'\n",
    "data['workclass'].value_counts()\n",
    "\n",
    "# replace missing values \"?\" in 'workclass' with most frequent value\n",
    "data['workclass'].replace('?','Private',inplace=True)\n",
    "\n",
    "# check values for 'education'\n",
    "data['education'].value_counts()\n",
    "\n",
    "# check values for 'marital-status'\n",
    "data['marital-status'].value_counts()\n",
    "\n",
    "# check values for 'occupation'\n",
    "data['occupation'].value_counts()\n",
    "\n",
    "# replace missing values \"?\" in 'occupation' with most frequent value\n",
    "data['occupation'].replace('?','Prof-specialty',inplace=True)\n",
    "\n",
    "# check values for 'relationship'\n",
    "data['relationship'].value_counts()\n",
    "\n",
    "# check values for 'race'\n",
    "data['race'].value_counts()\n",
    "\n",
    "# check values for 'sex'\n",
    "data['sex'].value_counts()\n",
    "\n",
    "# check values for 'native-country'\n",
    "data['native-country'].value_counts()\n",
    "\n",
    "# replace missing values \"?\" in 'native-country' with most frequent value\n",
    "data['native-country'].replace('?','United-States',inplace=True)\n",
    "\n",
    "# check values for 'income'\n",
    "data['income'].value_counts()"
   ]
  },
  {
   "cell_type": "code",
   "execution_count": 9,
   "metadata": {},
   "outputs": [],
   "source": [
    "# DATA EXPLORATION #\n"
   ]
  },
  {
   "cell_type": "code",
   "execution_count": null,
   "metadata": {},
   "outputs": [],
   "source": []
  },
  {
   "cell_type": "code",
   "execution_count": null,
   "metadata": {},
   "outputs": [],
   "source": []
  },
  {
   "cell_type": "code",
   "execution_count": null,
   "metadata": {},
   "outputs": [],
   "source": []
  },
  {
   "cell_type": "code",
   "execution_count": null,
   "metadata": {},
   "outputs": [],
   "source": []
  },
  {
   "cell_type": "code",
   "execution_count": null,
   "metadata": {},
   "outputs": [],
   "source": []
  },
  {
   "cell_type": "code",
   "execution_count": null,
   "metadata": {
    "scrolled": true
   },
   "outputs": [],
   "source": []
  },
  {
   "cell_type": "code",
   "execution_count": null,
   "metadata": {},
   "outputs": [],
   "source": []
  },
  {
   "cell_type": "code",
   "execution_count": null,
   "metadata": {},
   "outputs": [],
   "source": []
  },
  {
   "cell_type": "code",
   "execution_count": null,
   "metadata": {},
   "outputs": [],
   "source": [
    "\n",
    "\n"
   ]
  },
  {
   "cell_type": "code",
   "execution_count": null,
   "metadata": {},
   "outputs": [],
   "source": []
  },
  {
   "cell_type": "code",
   "execution_count": null,
   "metadata": {
    "scrolled": true
   },
   "outputs": [],
   "source": []
  },
  {
   "cell_type": "code",
   "execution_count": null,
   "metadata": {},
   "outputs": [],
   "source": []
  },
  {
   "cell_type": "code",
   "execution_count": null,
   "metadata": {},
   "outputs": [],
   "source": []
  },
  {
   "cell_type": "code",
   "execution_count": null,
   "metadata": {},
   "outputs": [],
   "source": []
  },
  {
   "cell_type": "code",
   "execution_count": null,
   "metadata": {
    "scrolled": true
   },
   "outputs": [],
   "source": []
  },
  {
   "cell_type": "code",
   "execution_count": null,
   "metadata": {},
   "outputs": [],
   "source": []
  },
  {
   "cell_type": "code",
   "execution_count": null,
   "metadata": {},
   "outputs": [],
   "source": []
  },
  {
   "cell_type": "code",
   "execution_count": null,
   "metadata": {},
   "outputs": [],
   "source": []
  },
  {
   "cell_type": "code",
   "execution_count": null,
   "metadata": {},
   "outputs": [],
   "source": []
  },
  {
   "cell_type": "code",
   "execution_count": null,
   "metadata": {},
   "outputs": [],
   "source": []
  },
  {
   "cell_type": "code",
   "execution_count": null,
   "metadata": {},
   "outputs": [],
   "source": []
  },
  {
   "cell_type": "code",
   "execution_count": null,
   "metadata": {},
   "outputs": [],
   "source": []
  }
 ],
 "metadata": {
  "kernelspec": {
   "display_name": "Python 3",
   "language": "python",
   "name": "python3"
  },
  "language_info": {
   "codemirror_mode": {
    "name": "ipython",
    "version": 3
   },
   "file_extension": ".py",
   "mimetype": "text/x-python",
   "name": "python",
   "nbconvert_exporter": "python",
   "pygments_lexer": "ipython3",
   "version": "3.7.1"
  }
 },
 "nbformat": 4,
 "nbformat_minor": 2
}
